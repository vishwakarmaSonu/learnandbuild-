{
 "cells": [
  {
   "cell_type": "code",
   "execution_count": 1,
   "id": "6e80656a",
   "metadata": {},
   "outputs": [],
   "source": [
    "import numpy as np\n",
    "import pandas as pd\n",
    "import matplotlib.pyplot as plt"
   ]
  },
  {
   "cell_type": "code",
   "execution_count": 2,
   "id": "6b8ea09f",
   "metadata": {},
   "outputs": [],
   "source": [
    "bating = []\n",
    "for i in range(2022-2016+1):\n",
    "    st = str(2016+i)\n",
    "    i =pd.read_csv('Batting Stats\\BATTING STATS - IPL_'+str(st)+'.csv')\n",
    "    bating.append(i)\n",
    "    \n",
    "    "
   ]
  },
  {
   "cell_type": "code",
   "execution_count": 3,
   "id": "fa4511c1",
   "metadata": {},
   "outputs": [],
   "source": [
    "bowling = []\n",
    "for i in range(2022-2016+1):\n",
    "    st = str(2016+i)\n",
    "    i =pd.read_csv('Bowling Stats\\BOWLING STATS - IPL_'+str(st)+'.csv')\n",
    "    bowling.append(i)"
   ]
  },
  {
   "cell_type": "code",
   "execution_count": 4,
   "id": "d9129cf9",
   "metadata": {},
   "outputs": [
    {
     "name": "stdout",
     "output_type": "stream",
     "text": [
      "0 ==>>> 2016\n",
      "1 ==>>> 2017\n",
      "2 ==>>> 2018\n",
      "3 ==>>> 2019\n",
      "4 ==>>> 2020\n",
      "5 ==>>> 2021\n",
      "6 ==>>> 2022\n"
     ]
    }
   ],
   "source": [
    "for i in range(2022-2016+1):\n",
    "    print(i,\"==>>>\",2016+i)"
   ]
  },
  {
   "cell_type": "code",
   "execution_count": 5,
   "id": "6fa68c0c",
   "metadata": {},
   "outputs": [
    {
     "data": {
      "text/html": [
       "<div>\n",
       "<style scoped>\n",
       "    .dataframe tbody tr th:only-of-type {\n",
       "        vertical-align: middle;\n",
       "    }\n",
       "\n",
       "    .dataframe tbody tr th {\n",
       "        vertical-align: top;\n",
       "    }\n",
       "\n",
       "    .dataframe thead th {\n",
       "        text-align: right;\n",
       "    }\n",
       "</style>\n",
       "<table border=\"1\" class=\"dataframe\">\n",
       "  <thead>\n",
       "    <tr style=\"text-align: right;\">\n",
       "      <th></th>\n",
       "      <th>POS</th>\n",
       "      <th>Player</th>\n",
       "      <th>Mat</th>\n",
       "      <th>Inns</th>\n",
       "      <th>Ov</th>\n",
       "      <th>Runs</th>\n",
       "      <th>Wkts</th>\n",
       "      <th>BBI</th>\n",
       "      <th>Avg</th>\n",
       "      <th>Econ</th>\n",
       "      <th>SR</th>\n",
       "      <th>4w</th>\n",
       "      <th>5w</th>\n",
       "    </tr>\n",
       "  </thead>\n",
       "  <tbody>\n",
       "    <tr>\n",
       "      <th>0</th>\n",
       "      <td>1</td>\n",
       "      <td>Yuzvendra Chahal</td>\n",
       "      <td>17</td>\n",
       "      <td>17</td>\n",
       "      <td>68.0</td>\n",
       "      <td>527</td>\n",
       "      <td>27</td>\n",
       "      <td>40/5</td>\n",
       "      <td>19.51</td>\n",
       "      <td>7.75</td>\n",
       "      <td>15.11</td>\n",
       "      <td>1</td>\n",
       "      <td>1</td>\n",
       "    </tr>\n",
       "    <tr>\n",
       "      <th>1</th>\n",
       "      <td>2</td>\n",
       "      <td>Wanindu Hasaranga</td>\n",
       "      <td>16</td>\n",
       "      <td>16</td>\n",
       "      <td>57.0</td>\n",
       "      <td>430</td>\n",
       "      <td>26</td>\n",
       "      <td>18/5</td>\n",
       "      <td>16.53</td>\n",
       "      <td>7.54</td>\n",
       "      <td>13.15</td>\n",
       "      <td>1</td>\n",
       "      <td>1</td>\n",
       "    </tr>\n",
       "    <tr>\n",
       "      <th>2</th>\n",
       "      <td>3</td>\n",
       "      <td>Kagiso Rabada</td>\n",
       "      <td>13</td>\n",
       "      <td>13</td>\n",
       "      <td>48.0</td>\n",
       "      <td>406</td>\n",
       "      <td>23</td>\n",
       "      <td>33/4</td>\n",
       "      <td>17.65</td>\n",
       "      <td>8.45</td>\n",
       "      <td>12.52</td>\n",
       "      <td>2</td>\n",
       "      <td>0</td>\n",
       "    </tr>\n",
       "    <tr>\n",
       "      <th>3</th>\n",
       "      <td>4</td>\n",
       "      <td>Umran Malik</td>\n",
       "      <td>14</td>\n",
       "      <td>14</td>\n",
       "      <td>49.1</td>\n",
       "      <td>444</td>\n",
       "      <td>22</td>\n",
       "      <td>25/5</td>\n",
       "      <td>20.18</td>\n",
       "      <td>9.03</td>\n",
       "      <td>13.40</td>\n",
       "      <td>1</td>\n",
       "      <td>1</td>\n",
       "    </tr>\n",
       "    <tr>\n",
       "      <th>4</th>\n",
       "      <td>5</td>\n",
       "      <td>Kuldeep Yadav</td>\n",
       "      <td>14</td>\n",
       "      <td>14</td>\n",
       "      <td>49.4</td>\n",
       "      <td>419</td>\n",
       "      <td>21</td>\n",
       "      <td>14/4</td>\n",
       "      <td>19.95</td>\n",
       "      <td>8.43</td>\n",
       "      <td>14.19</td>\n",
       "      <td>2</td>\n",
       "      <td>0</td>\n",
       "    </tr>\n",
       "  </tbody>\n",
       "</table>\n",
       "</div>"
      ],
      "text/plain": [
       "   POS             Player  Mat  Inns    Ov  Runs  Wkts   BBI    Avg  Econ  \\\n",
       "0    1   Yuzvendra Chahal   17    17  68.0   527    27  40/5  19.51  7.75   \n",
       "1    2  Wanindu Hasaranga   16    16  57.0   430    26  18/5  16.53  7.54   \n",
       "2    3      Kagiso Rabada   13    13  48.0   406    23  33/4  17.65  8.45   \n",
       "3    4        Umran Malik   14    14  49.1   444    22  25/5  20.18  9.03   \n",
       "4    5      Kuldeep Yadav   14    14  49.4   419    21  14/4  19.95  8.43   \n",
       "\n",
       "      SR  4w  5w  \n",
       "0  15.11   1   1  \n",
       "1  13.15   1   1  \n",
       "2  12.52   2   0  \n",
       "3  13.40   1   1  \n",
       "4  14.19   2   0  "
      ]
     },
     "execution_count": 5,
     "metadata": {},
     "output_type": "execute_result"
    }
   ],
   "source": [
    "bowling[6].head()"
   ]
  },
  {
   "cell_type": "code",
   "execution_count": 6,
   "id": "3a0d3ddb",
   "metadata": {},
   "outputs": [
    {
     "data": {
      "text/html": [
       "<div>\n",
       "<style scoped>\n",
       "    .dataframe tbody tr th:only-of-type {\n",
       "        vertical-align: middle;\n",
       "    }\n",
       "\n",
       "    .dataframe tbody tr th {\n",
       "        vertical-align: top;\n",
       "    }\n",
       "\n",
       "    .dataframe thead th {\n",
       "        text-align: right;\n",
       "    }\n",
       "</style>\n",
       "<table border=\"1\" class=\"dataframe\">\n",
       "  <thead>\n",
       "    <tr style=\"text-align: right;\">\n",
       "      <th></th>\n",
       "      <th>POS</th>\n",
       "      <th>Player</th>\n",
       "      <th>Mat</th>\n",
       "      <th>Inns</th>\n",
       "      <th>NO</th>\n",
       "      <th>Runs</th>\n",
       "      <th>HS</th>\n",
       "      <th>Avg</th>\n",
       "      <th>BF</th>\n",
       "      <th>SR</th>\n",
       "      <th>100</th>\n",
       "      <th>50</th>\n",
       "      <th>4s</th>\n",
       "      <th>6s</th>\n",
       "    </tr>\n",
       "  </thead>\n",
       "  <tbody>\n",
       "    <tr>\n",
       "      <th>0</th>\n",
       "      <td>1</td>\n",
       "      <td>Jos Buttler</td>\n",
       "      <td>17</td>\n",
       "      <td>17</td>\n",
       "      <td>2</td>\n",
       "      <td>863</td>\n",
       "      <td>116</td>\n",
       "      <td>57.53</td>\n",
       "      <td>579</td>\n",
       "      <td>149.05</td>\n",
       "      <td>4</td>\n",
       "      <td>4</td>\n",
       "      <td>83</td>\n",
       "      <td>45</td>\n",
       "    </tr>\n",
       "    <tr>\n",
       "      <th>1</th>\n",
       "      <td>2</td>\n",
       "      <td>K L Rahul</td>\n",
       "      <td>15</td>\n",
       "      <td>15</td>\n",
       "      <td>3</td>\n",
       "      <td>616</td>\n",
       "      <td>103*</td>\n",
       "      <td>51.33</td>\n",
       "      <td>455</td>\n",
       "      <td>135.38</td>\n",
       "      <td>2</td>\n",
       "      <td>4</td>\n",
       "      <td>45</td>\n",
       "      <td>30</td>\n",
       "    </tr>\n",
       "    <tr>\n",
       "      <th>2</th>\n",
       "      <td>3</td>\n",
       "      <td>Quinton De Kock</td>\n",
       "      <td>15</td>\n",
       "      <td>15</td>\n",
       "      <td>1</td>\n",
       "      <td>508</td>\n",
       "      <td>140*</td>\n",
       "      <td>36.29</td>\n",
       "      <td>341</td>\n",
       "      <td>148.97</td>\n",
       "      <td>1</td>\n",
       "      <td>3</td>\n",
       "      <td>47</td>\n",
       "      <td>23</td>\n",
       "    </tr>\n",
       "    <tr>\n",
       "      <th>3</th>\n",
       "      <td>4</td>\n",
       "      <td>Hardik Pandya</td>\n",
       "      <td>15</td>\n",
       "      <td>15</td>\n",
       "      <td>4</td>\n",
       "      <td>487</td>\n",
       "      <td>87*</td>\n",
       "      <td>44.27</td>\n",
       "      <td>371</td>\n",
       "      <td>131.26</td>\n",
       "      <td>0</td>\n",
       "      <td>4</td>\n",
       "      <td>49</td>\n",
       "      <td>12</td>\n",
       "    </tr>\n",
       "    <tr>\n",
       "      <th>4</th>\n",
       "      <td>5</td>\n",
       "      <td>Shubman Gill</td>\n",
       "      <td>16</td>\n",
       "      <td>16</td>\n",
       "      <td>2</td>\n",
       "      <td>483</td>\n",
       "      <td>96</td>\n",
       "      <td>34.5</td>\n",
       "      <td>365</td>\n",
       "      <td>132.32</td>\n",
       "      <td>0</td>\n",
       "      <td>4</td>\n",
       "      <td>51</td>\n",
       "      <td>11</td>\n",
       "    </tr>\n",
       "  </tbody>\n",
       "</table>\n",
       "</div>"
      ],
      "text/plain": [
       "   POS           Player  Mat  Inns  NO  Runs    HS    Avg   BF      SR  100  \\\n",
       "0    1      Jos Buttler   17    17   2   863   116  57.53  579  149.05    4   \n",
       "1    2        K L Rahul   15    15   3   616  103*  51.33  455  135.38    2   \n",
       "2    3  Quinton De Kock   15    15   1   508  140*  36.29  341  148.97    1   \n",
       "3    4    Hardik Pandya   15    15   4   487   87*  44.27  371  131.26    0   \n",
       "4    5     Shubman Gill   16    16   2   483    96   34.5  365  132.32    0   \n",
       "\n",
       "   50  4s  6s  \n",
       "0   4  83  45  \n",
       "1   4  45  30  \n",
       "2   3  47  23  \n",
       "3   4  49  12  \n",
       "4   4  51  11  "
      ]
     },
     "execution_count": 6,
     "metadata": {},
     "output_type": "execute_result"
    }
   ],
   "source": [
    "bating[6].head()"
   ]
  },
  {
   "cell_type": "code",
   "execution_count": 7,
   "id": "34bfe7e5",
   "metadata": {},
   "outputs": [
    {
     "name": "stdout",
     "output_type": "stream",
     "text": [
      "<class 'pandas.core.frame.DataFrame'>\n",
      "RangeIndex: 103 entries, 0 to 102\n",
      "Data columns (total 13 columns):\n",
      " #   Column  Non-Null Count  Dtype  \n",
      "---  ------  --------------  -----  \n",
      " 0   POS     103 non-null    int64  \n",
      " 1   Player  103 non-null    object \n",
      " 2   Mat     103 non-null    int64  \n",
      " 3   Inns    103 non-null    int64  \n",
      " 4   Ov      103 non-null    float64\n",
      " 5   Runs    103 non-null    int64  \n",
      " 6   Wkts    103 non-null    int64  \n",
      " 7   BBI     103 non-null    object \n",
      " 8   Avg     103 non-null    float64\n",
      " 9   Econ    103 non-null    float64\n",
      " 10  SR      103 non-null    float64\n",
      " 11  4w      103 non-null    int64  \n",
      " 12  5w      103 non-null    int64  \n",
      "dtypes: float64(4), int64(7), object(2)\n",
      "memory usage: 10.6+ KB\n"
     ]
    }
   ],
   "source": [
    "bowling[6].info()"
   ]
  },
  {
   "cell_type": "code",
   "execution_count": 8,
   "id": "b3cc3691",
   "metadata": {},
   "outputs": [
    {
     "name": "stdout",
     "output_type": "stream",
     "text": [
      "<class 'pandas.core.frame.DataFrame'>\n",
      "RangeIndex: 162 entries, 0 to 161\n",
      "Data columns (total 14 columns):\n",
      " #   Column  Non-Null Count  Dtype  \n",
      "---  ------  --------------  -----  \n",
      " 0   POS     162 non-null    int64  \n",
      " 1   Player  162 non-null    object \n",
      " 2   Mat     162 non-null    int64  \n",
      " 3   Inns    162 non-null    int64  \n",
      " 4   NO      162 non-null    int64  \n",
      " 5   Runs    162 non-null    int64  \n",
      " 6   HS      162 non-null    object \n",
      " 7   Avg     162 non-null    object \n",
      " 8   BF      162 non-null    int64  \n",
      " 9   SR      162 non-null    float64\n",
      " 10  100     162 non-null    int64  \n",
      " 11  50      162 non-null    int64  \n",
      " 12  4s      162 non-null    int64  \n",
      " 13  6s      162 non-null    int64  \n",
      "dtypes: float64(1), int64(10), object(3)\n",
      "memory usage: 17.8+ KB\n"
     ]
    }
   ],
   "source": [
    "bating[6].info()"
   ]
  },
  {
   "cell_type": "code",
   "execution_count": 15,
   "id": "34cf00f9",
   "metadata": {},
   "outputs": [],
   "source": [
    "x =bating[6].iloc[:,0]"
   ]
  },
  {
   "cell_type": "code",
   "execution_count": 19,
   "id": "62fdea49",
   "metadata": {},
   "outputs": [],
   "source": [
    "y =bating[6].iloc[:,7]"
   ]
  },
  {
   "cell_type": "code",
   "execution_count": 24,
   "id": "5393906a",
   "metadata": {},
   "outputs": [
    {
     "data": {
      "image/png": "[encoded data removed]",
      "text/plain": [
       "<Figure size 640x480 with 1 Axes>"
      ]
     },
     "metadata": {},
     "output_type": "display_data"
    }
   ],
   "source": [
    "plt.plot(y,x)\n",
    "plt.show()"
   ]
  },
  {
   "cell_type": "code",
   "execution_count": 31,
   "id": "3f77782b",
   "metadata": {},
   "outputs": [],
   "source": [
    "bating[6].iloc[:,7] = bating[6].iloc[:,7].astype(str)"
   ]
  },
  {
   "cell_type": "code",
   "execution_count": 32,
   "id": "cfe50850",
   "metadata": {},
   "outputs": [],
   "source": [
    "bating[6].iloc[:,7] = bating[6].iloc[:,7].str.replace(\"-\",\"0\")"
   ]
  },
  {
   "cell_type": "code",
   "execution_count": 33,
   "id": "37c01771",
   "metadata": {},
   "outputs": [],
   "source": [
    "bating[6].iloc[:,7] = bating[6].iloc[:,7].str.strip(\" \")"
   ]
  },
  {
   "cell_type": "code",
   "execution_count": 34,
   "id": "eebf5062",
   "metadata": {},
   "outputs": [
    {
     "name": "stderr",
     "output_type": "stream",
     "text": [
      "C:\\Users\\HP\\AppData\\Local\\Temp\\ipykernel_1128\\2255284257.py:1: DeprecationWarning: In a future version, `df.iloc[:, i] = newvals` will attempt to set the values inplace instead of always setting a new array. To retain the old behavior, use either `df[df.columns[i]] = newvals` or, if columns are non-unique, `df.isetitem(i, newvals)`\n",
      "  bating[6].iloc[:,7] = bating[6].iloc[:,7].astype('float64')\n"
     ]
    }
   ],
   "source": [
    "bating[6].iloc[:,7] = bating[6].iloc[:,7].astype('float64')"
   ]
  },
  {
   "cell_type": "code",
   "execution_count": 36,
   "id": "1e38e3b7",
   "metadata": {},
   "outputs": [],
   "source": [
    "y =bating[6].iloc[:,7]"
   ]
  },
  {
   "cell_type": "code",
   "execution_count": 42,
   "id": "6e82422f",
   "metadata": {},
   "outputs": [
    {
     "data": {
      "image/png": "[encoded data removed]",
      "text/plain": [
       "<Figure size 640x480 with 1 Axes>"
      ]
     },
     "metadata": {},
     "output_type": "display_data"
    }
   ],
   "source": [
    "plt.plot(x,y)\n",
    "plt.xlabel(\"position of player\")\n",
    "plt.ylabel(\"Avg of performance\")\n",
    "plt.show()"
   ]
  },
  {
   "cell_type": "code",
   "execution_count": 39,
   "id": "ae928b68",
   "metadata": {},
   "outputs": [
    {
     "data": {
      "text/plain": [
       "68.71"
      ]
     },
     "execution_count": 39,
     "metadata": {},
     "output_type": "execute_result"
    }
   ],
   "source": [
    "max(y)"
   ]
  },
  {
   "cell_type": "code",
   "execution_count": 41,
   "id": "8a71b59c",
   "metadata": {},
   "outputs": [
    {
     "data": {
      "text/plain": [
       "1"
      ]
     },
     "execution_count": 41,
     "metadata": {},
     "output_type": "execute_result"
    }
   ],
   "source": [
    "min(x)"
   ]
  },
  {
   "cell_type": "code",
   "execution_count": 44,
   "id": "be5dbf97",
   "metadata": {},
   "outputs": [
    {
     "name": "stdout",
     "output_type": "stream",
     "text": [
      "I would prefer to choose the player position from one to twenty for batting\n"
     ]
    }
   ],
   "source": [
    "print(\"I would prefer to choose the player position from one to twenty for batting\")"
   ]
  },
  {
   "cell_type": "code",
   "execution_count": 50,
   "id": "f2130c94",
   "metadata": {},
   "outputs": [],
   "source": [
    "bat =bating[6].iloc[:,1].head(10)"
   ]
  },
  {
   "cell_type": "code",
   "execution_count": 52,
   "id": "dfd8fe07",
   "metadata": {},
   "outputs": [
    {
     "name": "stdout",
     "output_type": "stream",
     "text": [
      "these are the team or player for the next batting in 2024 IPL season\n",
      "Jos Buttler\n",
      "K L Rahul\n",
      "Quinton De Kock\n",
      "Hardik Pandya\n",
      "Shubman Gill\n",
      "David Miller\n",
      "Faf Du Plessis\n",
      "Shikhar Dhawan\n",
      "Sanju Samson\n",
      "Deepak Hooda\n"
     ]
    }
   ],
   "source": [
    "print(\"these are the team or player for the next batting in 2024 IPL season\")\n",
    "for i in bat:\n",
    "    print(i)"
   ]
  },
  {
   "cell_type": "code",
   "execution_count": 53,
   "id": "a19d257c",
   "metadata": {},
   "outputs": [
    {
     "name": "stdout",
     "output_type": "stream",
     "text": [
      "<class 'pandas.core.frame.DataFrame'>\n",
      "RangeIndex: 103 entries, 0 to 102\n",
      "Data columns (total 13 columns):\n",
      " #   Column  Non-Null Count  Dtype  \n",
      "---  ------  --------------  -----  \n",
      " 0   POS     103 non-null    int64  \n",
      " 1   Player  103 non-null    object \n",
      " 2   Mat     103 non-null    int64  \n",
      " 3   Inns    103 non-null    int64  \n",
      " 4   Ov      103 non-null    float64\n",
      " 5   Runs    103 non-null    int64  \n",
      " 6   Wkts    103 non-null    int64  \n",
      " 7   BBI     103 non-null    object \n",
      " 8   Avg     103 non-null    float64\n",
      " 9   Econ    103 non-null    float64\n",
      " 10  SR      103 non-null    float64\n",
      " 11  4w      103 non-null    int64  \n",
      " 12  5w      103 non-null    int64  \n",
      "dtypes: float64(4), int64(7), object(2)\n",
      "memory usage: 10.6+ KB\n"
     ]
    }
   ],
   "source": [
    "bowling[6].info()"
   ]
  },
  {
   "cell_type": "code",
   "execution_count": 55,
   "id": "17255082",
   "metadata": {},
   "outputs": [
    {
     "data": {
      "text/html": [
       "<div>\n",
       "<style scoped>\n",
       "    .dataframe tbody tr th:only-of-type {\n",
       "        vertical-align: middle;\n",
       "    }\n",
       "\n",
       "    .dataframe tbody tr th {\n",
       "        vertical-align: top;\n",
       "    }\n",
       "\n",
       "    .dataframe thead th {\n",
       "        text-align: right;\n",
       "    }\n",
       "</style>\n",
       "<table border=\"1\" class=\"dataframe\">\n",
       "  <thead>\n",
       "    <tr style=\"text-align: right;\">\n",
       "      <th></th>\n",
       "      <th>POS</th>\n",
       "      <th>Player</th>\n",
       "      <th>Mat</th>\n",
       "      <th>Inns</th>\n",
       "      <th>Ov</th>\n",
       "      <th>Runs</th>\n",
       "      <th>Wkts</th>\n",
       "      <th>BBI</th>\n",
       "      <th>Avg</th>\n",
       "      <th>Econ</th>\n",
       "      <th>SR</th>\n",
       "      <th>4w</th>\n",
       "      <th>5w</th>\n",
       "    </tr>\n",
       "  </thead>\n",
       "  <tbody>\n",
       "    <tr>\n",
       "      <th>0</th>\n",
       "      <td>1</td>\n",
       "      <td>Yuzvendra Chahal</td>\n",
       "      <td>17</td>\n",
       "      <td>17</td>\n",
       "      <td>68.0</td>\n",
       "      <td>527</td>\n",
       "      <td>27</td>\n",
       "      <td>40/5</td>\n",
       "      <td>19.51</td>\n",
       "      <td>7.75</td>\n",
       "      <td>15.11</td>\n",
       "      <td>1</td>\n",
       "      <td>1</td>\n",
       "    </tr>\n",
       "    <tr>\n",
       "      <th>1</th>\n",
       "      <td>2</td>\n",
       "      <td>Wanindu Hasaranga</td>\n",
       "      <td>16</td>\n",
       "      <td>16</td>\n",
       "      <td>57.0</td>\n",
       "      <td>430</td>\n",
       "      <td>26</td>\n",
       "      <td>18/5</td>\n",
       "      <td>16.53</td>\n",
       "      <td>7.54</td>\n",
       "      <td>13.15</td>\n",
       "      <td>1</td>\n",
       "      <td>1</td>\n",
       "    </tr>\n",
       "    <tr>\n",
       "      <th>2</th>\n",
       "      <td>3</td>\n",
       "      <td>Kagiso Rabada</td>\n",
       "      <td>13</td>\n",
       "      <td>13</td>\n",
       "      <td>48.0</td>\n",
       "      <td>406</td>\n",
       "      <td>23</td>\n",
       "      <td>33/4</td>\n",
       "      <td>17.65</td>\n",
       "      <td>8.45</td>\n",
       "      <td>12.52</td>\n",
       "      <td>2</td>\n",
       "      <td>0</td>\n",
       "    </tr>\n",
       "    <tr>\n",
       "      <th>3</th>\n",
       "      <td>4</td>\n",
       "      <td>Umran Malik</td>\n",
       "      <td>14</td>\n",
       "      <td>14</td>\n",
       "      <td>49.1</td>\n",
       "      <td>444</td>\n",
       "      <td>22</td>\n",
       "      <td>25/5</td>\n",
       "      <td>20.18</td>\n",
       "      <td>9.03</td>\n",
       "      <td>13.40</td>\n",
       "      <td>1</td>\n",
       "      <td>1</td>\n",
       "    </tr>\n",
       "    <tr>\n",
       "      <th>4</th>\n",
       "      <td>5</td>\n",
       "      <td>Kuldeep Yadav</td>\n",
       "      <td>14</td>\n",
       "      <td>14</td>\n",
       "      <td>49.4</td>\n",
       "      <td>419</td>\n",
       "      <td>21</td>\n",
       "      <td>14/4</td>\n",
       "      <td>19.95</td>\n",
       "      <td>8.43</td>\n",
       "      <td>14.19</td>\n",
       "      <td>2</td>\n",
       "      <td>0</td>\n",
       "    </tr>\n",
       "    <tr>\n",
       "      <th>...</th>\n",
       "      <td>...</td>\n",
       "      <td>...</td>\n",
       "      <td>...</td>\n",
       "      <td>...</td>\n",
       "      <td>...</td>\n",
       "      <td>...</td>\n",
       "      <td>...</td>\n",
       "      <td>...</td>\n",
       "      <td>...</td>\n",
       "      <td>...</td>\n",
       "      <td>...</td>\n",
       "      <td>...</td>\n",
       "      <td>...</td>\n",
       "    </tr>\n",
       "    <tr>\n",
       "      <th>98</th>\n",
       "      <td>99</td>\n",
       "      <td>Shreyas Gopal</td>\n",
       "      <td>1</td>\n",
       "      <td>1</td>\n",
       "      <td>3.0</td>\n",
       "      <td>34</td>\n",
       "      <td>1</td>\n",
       "      <td>34/1</td>\n",
       "      <td>34.00</td>\n",
       "      <td>11.33</td>\n",
       "      <td>18.00</td>\n",
       "      <td>0</td>\n",
       "      <td>0</td>\n",
       "    </tr>\n",
       "    <tr>\n",
       "      <th>99</th>\n",
       "      <td>100</td>\n",
       "      <td>Fabian Allen</td>\n",
       "      <td>1</td>\n",
       "      <td>1</td>\n",
       "      <td>4.0</td>\n",
       "      <td>46</td>\n",
       "      <td>1</td>\n",
       "      <td>46/1</td>\n",
       "      <td>46.00</td>\n",
       "      <td>11.50</td>\n",
       "      <td>24.00</td>\n",
       "      <td>0</td>\n",
       "      <td>0</td>\n",
       "    </tr>\n",
       "    <tr>\n",
       "      <th>100</th>\n",
       "      <td>101</td>\n",
       "      <td>Sean Abbott</td>\n",
       "      <td>1</td>\n",
       "      <td>1</td>\n",
       "      <td>4.0</td>\n",
       "      <td>47</td>\n",
       "      <td>1</td>\n",
       "      <td>47/1</td>\n",
       "      <td>47.00</td>\n",
       "      <td>11.75</td>\n",
       "      <td>24.00</td>\n",
       "      <td>0</td>\n",
       "      <td>0</td>\n",
       "    </tr>\n",
       "    <tr>\n",
       "      <th>101</th>\n",
       "      <td>102</td>\n",
       "      <td>Riyan Parag</td>\n",
       "      <td>17</td>\n",
       "      <td>4</td>\n",
       "      <td>4.0</td>\n",
       "      <td>59</td>\n",
       "      <td>1</td>\n",
       "      <td>12/1</td>\n",
       "      <td>59.00</td>\n",
       "      <td>14.75</td>\n",
       "      <td>24.00</td>\n",
       "      <td>0</td>\n",
       "      <td>0</td>\n",
       "    </tr>\n",
       "    <tr>\n",
       "      <th>102</th>\n",
       "      <td>103</td>\n",
       "      <td>Dewald Brevis</td>\n",
       "      <td>7</td>\n",
       "      <td>1</td>\n",
       "      <td>0.3</td>\n",
       "      <td>8</td>\n",
       "      <td>1</td>\n",
       "      <td>8/1</td>\n",
       "      <td>8.00</td>\n",
       "      <td>16.00</td>\n",
       "      <td>3.00</td>\n",
       "      <td>0</td>\n",
       "      <td>0</td>\n",
       "    </tr>\n",
       "  </tbody>\n",
       "</table>\n",
       "<p>103 rows × 13 columns</p>\n",
       "</div>"
      ],
      "text/plain": [
       "     POS             Player  Mat  Inns    Ov  Runs  Wkts   BBI    Avg   Econ  \\\n",
       "0      1   Yuzvendra Chahal   17    17  68.0   527    27  40/5  19.51   7.75   \n",
       "1      2  Wanindu Hasaranga   16    16  57.0   430    26  18/5  16.53   7.54   \n",
       "2      3      Kagiso Rabada   13    13  48.0   406    23  33/4  17.65   8.45   \n",
       "3      4        Umran Malik   14    14  49.1   444    22  25/5  20.18   9.03   \n",
       "4      5      Kuldeep Yadav   14    14  49.4   419    21  14/4  19.95   8.43   \n",
       "..   ...                ...  ...   ...   ...   ...   ...   ...    ...    ...   \n",
       "98    99      Shreyas Gopal    1     1   3.0    34     1  34/1  34.00  11.33   \n",
       "99   100       Fabian Allen    1     1   4.0    46     1  46/1  46.00  11.50   \n",
       "100  101        Sean Abbott    1     1   4.0    47     1  47/1  47.00  11.75   \n",
       "101  102        Riyan Parag   17     4   4.0    59     1  12/1  59.00  14.75   \n",
       "102  103      Dewald Brevis    7     1   0.3     8     1   8/1   8.00  16.00   \n",
       "\n",
       "        SR  4w  5w  \n",
       "0    15.11   1   1  \n",
       "1    13.15   1   1  \n",
       "2    12.52   2   0  \n",
       "3    13.40   1   1  \n",
       "4    14.19   2   0  \n",
       "..     ...  ..  ..  \n",
       "98   18.00   0   0  \n",
       "99   24.00   0   0  \n",
       "100  24.00   0   0  \n",
       "101  24.00   0   0  \n",
       "102   3.00   0   0  \n",
       "\n",
       "[103 rows x 13 columns]"
      ]
     },
     "execution_count": 55,
     "metadata": {},
     "output_type": "execute_result"
    }
   ],
   "source": [
    "bowling[6]"
   ]
  },
  {
   "cell_type": "code",
   "execution_count": 58,
   "id": "73fe1523",
   "metadata": {},
   "outputs": [],
   "source": [
    "u =bowling[6].iloc[:,8]"
   ]
  },
  {
   "cell_type": "code",
   "execution_count": 59,
   "id": "d38d70a3",
   "metadata": {},
   "outputs": [],
   "source": [
    "x=bowling[6].iloc[:,0]"
   ]
  },
  {
   "cell_type": "code",
   "execution_count": 63,
   "id": "ad2b2898",
   "metadata": {},
   "outputs": [
    {
     "data": {
      "text/plain": [
       "[<matplotlib.lines.Line2D at 0x1c19910ae20>]"
      ]
     },
     "execution_count": 63,
     "metadata": {},
     "output_type": "execute_result"
    },
    {
     "data": {
      "image/png": "[encoded data removed]",
      "text/plain": [
       "<Figure size 640x480 with 1 Axes>"
      ]
     },
     "metadata": {},
     "output_type": "display_data"
    }
   ],
   "source": [
    "plt.plot(u,x)"
   ]
  },
  {
   "cell_type": "code",
   "execution_count": 64,
   "id": "e05986f0",
   "metadata": {},
   "outputs": [
    {
     "name": "stdout",
     "output_type": "stream",
     "text": [
      "here i would prefer to choose player from 60 to 80  for bowling \n"
     ]
    }
   ],
   "source": [
    "print(\"here i would prefer to choose player from 60 to 80  for bowling \")"
   ]
  },
  {
   "cell_type": "code",
   "execution_count": 68,
   "id": "ba6558ed",
   "metadata": {},
   "outputs": [],
   "source": [
    "t =bating[6].iloc[60:80,1]"
   ]
  },
  {
   "cell_type": "code",
   "execution_count": 69,
   "id": "4819c5e7",
   "metadata": {},
   "outputs": [
    {
     "name": "stdout",
     "output_type": "stream",
     "text": [
      "Matthew Wade\n",
      "Marcus Stoinis\n",
      "Sai Sudharsan\n",
      "Kieron Pollard\n",
      "Ajinkya Rahane\n",
      "Anuj Rawat\n",
      "Shardul Thakur\n",
      "Shahrukh Khan\n",
      "Ravindra Jadeja\n",
      "Abhinav Manohar\n",
      "Washington Sundar\n",
      "Rashid Khan\n",
      "Sarfaraz Khan\n",
      "Manish Pandey\n",
      "Mahipal Lomror\n",
      "Aaron Finch\n",
      "Rahul Chahar\n",
      "Evin Lewis\n",
      "Sunil Narine\n",
      "Shashank Singh\n"
     ]
    }
   ],
   "source": [
    "print( \"these are the player for bowling \")\n",
    "for i in t:\n",
    "    print(i)"
   ]
  },
  {
   "cell_type": "code",
   "execution_count": null,
   "id": "f69945ee",
   "metadata": {},
   "outputs": [],
   "source": []
  }
 ],
 "metadata": {
  "kernelspec": {
   "display_name": "Python 3 (ipykernel)",
   "language": "python",
   "name": "python3"
  },
  "language_info": {
   "codemirror_mode": {
    "name": "ipython",
    "version": 3
   },
   "file_extension": ".py",
   "mimetype": "text/x-python",
   "name": "python",
   "nbconvert_exporter": "python",
   "pygments_lexer": "ipython3",
   "version": "3.8.3"
  }
 },
 "nbformat": 4,
 "nbformat_minor": 5
}
