{
 "cells": [
  {
   "cell_type": "code",
   "execution_count": 5,
   "id": "ac05f116",
   "metadata": {},
   "outputs": [],
   "source": [
    "import numpy as np\n",
    "import csv"
   ]
  },
  {
   "cell_type": "code",
   "execution_count": 6,
   "id": "1f61e471",
   "metadata": {},
   "outputs": [],
   "source": [
    "data = []\n",
    "with open('MER_T07_02A-2020-02-03.csv') as fs:\n",
    "    file_reader = csv.reader(fs)\n",
    "    for row in file_reader:\n",
    "        data.append(row)"
   ]
  },
  {
   "cell_type": "code",
   "execution_count": 7,
   "id": "cfdaf4af",
   "metadata": {},
   "outputs": [],
   "source": [
    "data = np.array(data)"
   ]
  },
  {
   "cell_type": "markdown",
   "id": "28e3b6f4",
   "metadata": {},
   "source": [
    "# 1. Explore the important attributes like dimension,shape, data type etc, of the array formed\n"
   ]
  },
  {
   "cell_type": "code",
   "execution_count": 8,
   "id": "8739799b",
   "metadata": {},
   "outputs": [
    {
     "data": {
      "text/plain": [
       "2"
      ]
     },
     "execution_count": 8,
     "metadata": {},
     "output_type": "execute_result"
    }
   ],
   "source": [
    "data.ndim"
   ]
  },
  {
   "cell_type": "code",
   "execution_count": 9,
   "id": "2633489a",
   "metadata": {},
   "outputs": [
    {
     "data": {
      "text/plain": [
       "(8217, 6)"
      ]
     },
     "execution_count": 9,
     "metadata": {},
     "output_type": "execute_result"
    }
   ],
   "source": [
    "data.shape"
   ]
  },
  {
   "cell_type": "code",
   "execution_count": 10,
   "id": "ace6ca16",
   "metadata": {},
   "outputs": [
    {
     "data": {
      "text/plain": [
       "numpy.ndarray"
      ]
     },
     "execution_count": 10,
     "metadata": {},
     "output_type": "execute_result"
    }
   ],
   "source": [
    "type(data)"
   ]
  },
  {
   "cell_type": "code",
   "execution_count": 11,
   "id": "3be2ec32",
   "metadata": {},
   "outputs": [
    {
     "data": {
      "text/plain": [
       "dtype('<U80')"
      ]
     },
     "execution_count": 11,
     "metadata": {},
     "output_type": "execute_result"
    }
   ],
   "source": [
    "data.dtype"
   ]
  },
  {
   "cell_type": "markdown",
   "id": "54994524",
   "metadata": {},
   "source": [
    "# 2.Print the data contained in the first 10 rows of the 4th column.\n"
   ]
  },
  {
   "cell_type": "code",
   "execution_count": 12,
   "id": "5743f530",
   "metadata": {},
   "outputs": [
    {
     "data": {
      "text/plain": [
       "array(['Column_Order', '1', '1', '1', '1', '1', '1', '1', '1', '1'],\n",
       "      dtype='<U80')"
      ]
     },
     "execution_count": 12,
     "metadata": {},
     "output_type": "execute_result"
    }
   ],
   "source": [
    "data[:10,3]"
   ]
  },
  {
   "cell_type": "markdown",
   "id": "db101286",
   "metadata": {},
   "source": [
    "# 3. Which row serves as the headers/titles for all the columns.\n"
   ]
  },
  {
   "cell_type": "code",
   "execution_count": 13,
   "id": "d226d41b",
   "metadata": {},
   "outputs": [
    {
     "data": {
      "text/plain": [
       "array(['MSN', 'YYYYMM', 'Value', 'Column_Order', 'Description', 'Unit'],\n",
       "      dtype='<U80')"
      ]
     },
     "execution_count": 13,
     "metadata": {},
     "output_type": "execute_result"
    }
   ],
   "source": [
    "data[0]"
   ]
  },
  {
   "cell_type": "markdown",
   "id": "c41a00ee",
   "metadata": {},
   "source": [
    "# 4. Print the data contained in column 2 and 3 from row 1 till row 20\n"
   ]
  },
  {
   "cell_type": "code",
   "execution_count": 14,
   "id": "b5461726",
   "metadata": {},
   "outputs": [
    {
     "data": {
      "text/plain": [
       "array([['YYYYMM', 'Value'],\n",
       "       ['194913', '135451.32'],\n",
       "       ['195013', '154519.994'],\n",
       "       ['195113', '185203.657'],\n",
       "       ['195213', '195436.666'],\n",
       "       ['195313', '218846.325'],\n",
       "       ['195413', '239145.966'],\n",
       "       ['195513', '301362.698'],\n",
       "       ['195613', '338503.484'],\n",
       "       ['195713', '346386.207'],\n",
       "       ['195813', '344365.781'],\n",
       "       ['195913', '378424.21'],\n",
       "       ['196013', '403067.357'],\n",
       "       ['196113', '421870.669'],\n",
       "       ['196213', '450249.238'],\n",
       "       ['196313', '493926.719'],\n",
       "       ['196413', '526230.019'],\n",
       "       ['196513', '570925.951'],\n",
       "       ['196613', '613474.8'],\n",
       "       ['196713', '630483.363']], dtype='<U80')"
      ]
     },
     "execution_count": 14,
     "metadata": {},
     "output_type": "execute_result"
    }
   ],
   "source": [
    "data[:20,1:3]"
   ]
  },
  {
   "cell_type": "markdown",
   "id": "1e9221ef",
   "metadata": {},
   "source": [
    "# 5.Print the data present in only the first three and the last three rows of all the columns in a\n",
    "single output.\n"
   ]
  },
  {
   "cell_type": "code",
   "execution_count": 15,
   "id": "eefa7d06",
   "metadata": {},
   "outputs": [],
   "source": [
    "last = np.size(data,axis=0)"
   ]
  },
  {
   "cell_type": "code",
   "execution_count": 16,
   "id": "ba60aab0",
   "metadata": {},
   "outputs": [
    {
     "data": {
      "text/plain": [
       "8217"
      ]
     },
     "execution_count": 16,
     "metadata": {},
     "output_type": "execute_result"
    }
   ],
   "source": [
    "last"
   ]
  },
  {
   "cell_type": "code",
   "execution_count": 17,
   "id": "79fb8032",
   "metadata": {},
   "outputs": [
    {
     "data": {
      "text/plain": [
       "array([['MSN', 'YYYYMM', 'Value', 'Column_Order', 'Description', 'Unit'],\n",
       "       ['CLETPUS', '194913', '135451.32', '1',\n",
       "        'Electricity Net Generation From Coal, All Sectors',\n",
       "        'Million Kilowatthours'],\n",
       "       ['CLETPUS', '195013', '154519.994', '1',\n",
       "        'Electricity Net Generation From Coal, All Sectors',\n",
       "        'Million Kilowatthours']], dtype='<U80')"
      ]
     },
     "execution_count": 17,
     "metadata": {},
     "output_type": "execute_result"
    }
   ],
   "source": [
    "data[:3]"
   ]
  },
  {
   "cell_type": "code",
   "execution_count": 18,
   "id": "9258ecd1",
   "metadata": {},
   "outputs": [
    {
     "data": {
      "text/plain": [
       "array([['ELETPUS', '201908', '401363.186', '13',\n",
       "        'Electricity Net Generation Total (including from sources not shown), All Sectors',\n",
       "        'Million Kilowatthours'],\n",
       "       ['ELETPUS', '201909', '359300.603', '13',\n",
       "        'Electricity Net Generation Total (including from sources not shown), All Sectors',\n",
       "        'Million Kilowatthours'],\n",
       "       ['ELETPUS', '201910', '321921.812', '13',\n",
       "        'Electricity Net Generation Total (including from sources not shown), All Sectors',\n",
       "        'Million Kilowatthours']], dtype='<U80')"
      ]
     },
     "execution_count": 18,
     "metadata": {},
     "output_type": "execute_result"
    }
   ],
   "source": [
    "data[-3:]"
   ]
  },
  {
   "cell_type": "markdown",
   "id": "3ab8419d",
   "metadata": {},
   "source": [
    "# 6. Sort the data on the basis of net amount of electricity generated irrespective of the\n",
    "source"
   ]
  },
  {
   "cell_type": "code",
   "execution_count": 19,
   "id": "d3c73a66",
   "metadata": {},
   "outputs": [],
   "source": [
    "sorted_data = data[data[:, 5].argsort()]\n"
   ]
  },
  {
   "cell_type": "code",
   "execution_count": 20,
   "id": "1696de8a",
   "metadata": {},
   "outputs": [
    {
     "data": {
      "text/plain": [
       "array([['HVETPUS', '199506', '30225.224', '7',\n",
       "        'Electricity Net Generation From Conventional Hydroelectric Power, All Sectors',\n",
       "        'Million Kilowatthours'],\n",
       "       ['WSETPUS', '200402', '1223.129', '9',\n",
       "        'Electricity Net Generation From Waste, All Sectors',\n",
       "        'Million Kilowatthours'],\n",
       "       ['WSETPUS', '200401', '1262.997', '9',\n",
       "        'Electricity Net Generation From Waste, All Sectors',\n",
       "        'Million Kilowatthours'],\n",
       "       ...,\n",
       "       ['NUETPUS', '198608', '37483.147', '5',\n",
       "        'Electricity Net Generation From Nuclear Electric Power, All Sectors',\n",
       "        'Million Kilowatthours'],\n",
       "       ['NUETPUS', '199311', '46862.472', '5',\n",
       "        'Electricity Net Generation From Nuclear Electric Power, All Sectors',\n",
       "        'Million Kilowatthours'],\n",
       "       ['MSN', 'YYYYMM', 'Value', 'Column_Order', 'Description', 'Unit']],\n",
       "      dtype='<U80')"
      ]
     },
     "execution_count": 20,
     "metadata": {},
     "output_type": "execute_result"
    }
   ],
   "source": [
    "sorted_data"
   ]
  },
  {
   "cell_type": "markdown",
   "id": "041eb091",
   "metadata": {},
   "source": [
    "# Task 7: Find total electricity generated using coal and nuclear between 1949-1990\n"
   ]
  },
  {
   "cell_type": "code",
   "execution_count": 21,
   "id": "35347218",
   "metadata": {},
   "outputs": [
    {
     "name": "stdout",
     "output_type": "stream",
     "text": [
      "Total electricity generated using coal between 1949-1990: 0.0\n",
      "Total electricity generated using nuclear between 1949-1990: 0.0\n"
     ]
    }
   ],
   "source": [
    "coal_mask = (data[:, 1] == 'Coal') & (data[1, 1].astype(int) >= 1949) & (data[1,1].astype(int) <= 1990)\n",
    "nuclear_mask = (data[:, 1] == 'Nuclear') & (data[1,1].astype(int) >= 1949) & (data[1,1].astype(int) <= 1990)\n",
    "total_electricity_coal = np.sum(data[coal_mask, 5].astype(float))\n",
    "total_electricity_nuclear = np.sum(data[nuclear_mask, 5].astype(float))\n",
    "print(\"Total electricity generated using coal between 1949-1990:\", total_electricity_coal)\n",
    "print(\"Total electricity generated using nuclear between 1949-1990:\", total_electricity_nuclear)\n"
   ]
  },
  {
   "cell_type": "code",
   "execution_count": 22,
   "id": "3caaf705",
   "metadata": {},
   "outputs": [
    {
     "data": {
      "text/plain": [
       "array(['MSN', 'CLETPUS', 'CLETPUS', ..., 'ELETPUS', 'ELETPUS', 'ELETPUS'],\n",
       "      dtype='<U80')"
      ]
     },
     "execution_count": 22,
     "metadata": {},
     "output_type": "execute_result"
    }
   ],
   "source": [
    "data[:,0]"
   ]
  },
  {
   "cell_type": "code",
   "execution_count": 23,
   "id": "90595483",
   "metadata": {},
   "outputs": [
    {
     "ename": "ValueError",
     "evalue": "invalid literal for int() with base 10: 'YYYYMM'",
     "output_type": "error",
     "traceback": [
      "\u001b[1;31m---------------------------------------------------------------------------\u001b[0m",
      "\u001b[1;31mValueError\u001b[0m                                Traceback (most recent call last)",
      "Cell \u001b[1;32mIn[23], line 1\u001b[0m\n\u001b[1;32m----> 1\u001b[0m \u001b[43mdata\u001b[49m\u001b[43m[\u001b[49m\u001b[43m:\u001b[49m\u001b[43m,\u001b[49m\u001b[43m \u001b[49m\u001b[38;5;241;43m1\u001b[39;49m\u001b[43m]\u001b[49m\u001b[38;5;241;43m.\u001b[39;49m\u001b[43mastype\u001b[49m\u001b[43m(\u001b[49m\u001b[38;5;28;43mint\u001b[39;49m\u001b[43m)\u001b[49m \u001b[38;5;241m>\u001b[39m\u001b[38;5;241m=\u001b[39m \u001b[38;5;241m1949\u001b[39m\n",
      "\u001b[1;31mValueError\u001b[0m: invalid literal for int() with base 10: 'YYYYMM'"
     ]
    }
   ],
   "source": [
    "data[:, 1].astype(int) >= 1949"
   ]
  },
  {
   "cell_type": "code",
   "execution_count": 24,
   "id": "75eaa553",
   "metadata": {},
   "outputs": [
    {
     "data": {
      "text/plain": [
       "array([False, False, False, ..., False, False, False])"
      ]
     },
     "execution_count": 24,
     "metadata": {},
     "output_type": "execute_result"
    }
   ],
   "source": [
    "data[:,1] == 'Nuclear'"
   ]
  },
  {
   "cell_type": "markdown",
   "id": "13524d73",
   "metadata": {},
   "source": [
    "# 8. Print all the unique sources of Energy generation present in the dataset."
   ]
  },
  {
   "cell_type": "code",
   "execution_count": 25,
   "id": "72b4e628",
   "metadata": {},
   "outputs": [
    {
     "data": {
      "text/plain": [
       "array([['MSN', 'YYYYMM', 'Value', 'Column_Order', 'Description', 'Unit'],\n",
       "       ['CLETPUS', '194913', '135451.32', '1',\n",
       "        'Electricity Net Generation From Coal, All Sectors',\n",
       "        'Million Kilowatthours'],\n",
       "       ['CLETPUS', '195013', '154519.994', '1',\n",
       "        'Electricity Net Generation From Coal, All Sectors',\n",
       "        'Million Kilowatthours'],\n",
       "       ...,\n",
       "       ['ELETPUS', '201908', '401363.186', '13',\n",
       "        'Electricity Net Generation Total (including from sources not shown), All Sectors',\n",
       "        'Million Kilowatthours'],\n",
       "       ['ELETPUS', '201909', '359300.603', '13',\n",
       "        'Electricity Net Generation Total (including from sources not shown), All Sectors',\n",
       "        'Million Kilowatthours'],\n",
       "       ['ELETPUS', '201910', '321921.812', '13',\n",
       "        'Electricity Net Generation Total (including from sources not shown), All Sectors',\n",
       "        'Million Kilowatthours']], dtype='<U80')"
      ]
     },
     "execution_count": 25,
     "metadata": {},
     "output_type": "execute_result"
    }
   ],
   "source": [
    "data"
   ]
  },
  {
   "cell_type": "code",
   "execution_count": 26,
   "id": "ba4f167a",
   "metadata": {},
   "outputs": [
    {
     "data": {
      "text/plain": [
       "array(['Description', 'Electricity Net Generation From Coal, All Sectors',\n",
       "       'Electricity Net Generation From Conventional Hydroelectric Power, All Sectors',\n",
       "       'Electricity Net Generation From Geothermal, All Sectors',\n",
       "       'Electricity Net Generation From Hydroelectric Pumped Storage, All Sectors',\n",
       "       'Electricity Net Generation From Natural Gas, All Sectors',\n",
       "       'Electricity Net Generation From Nuclear Electric Power, All Sectors',\n",
       "       'Electricity Net Generation From Other Gases, All Sectors',\n",
       "       'Electricity Net Generation From Petroleum, All Sectors',\n",
       "       'Electricity Net Generation From Solar, All Sectors',\n",
       "       'Electricity Net Generation From Waste, All Sectors',\n",
       "       'Electricity Net Generation From Wind, All Sectors',\n",
       "       'Electricity Net Generation From Wood, All Sectors',\n",
       "       'Electricity Net Generation Total (including from sources not shown), All Sectors'],\n",
       "      dtype='<U80')"
      ]
     },
     "execution_count": 26,
     "metadata": {},
     "output_type": "execute_result"
    }
   ],
   "source": [
    " np.unique(data[:,4])"
   ]
  },
  {
   "cell_type": "markdown",
   "id": "dba35056",
   "metadata": {},
   "source": [
    "# 9. Print all the details(annual) where the energy source is Wind Energy. Use the concept of\n",
    "masking to filter the data"
   ]
  },
  {
   "cell_type": "code",
   "execution_count": 27,
   "id": "3c829b1a",
   "metadata": {},
   "outputs": [
    {
     "data": {
      "text/plain": [
       "array([['MSN', 'YYYYMM', 'Value', 'Column_Order', 'Description', 'Unit'],\n",
       "       ['CLETPUS', '194913', '135451.32', '1',\n",
       "        'Electricity Net Generation From Coal, All Sectors',\n",
       "        'Million Kilowatthours'],\n",
       "       ['CLETPUS', '195013', '154519.994', '1',\n",
       "        'Electricity Net Generation From Coal, All Sectors',\n",
       "        'Million Kilowatthours'],\n",
       "       ...,\n",
       "       ['ELETPUS', '201908', '401363.186', '13',\n",
       "        'Electricity Net Generation Total (including from sources not shown), All Sectors',\n",
       "        'Million Kilowatthours'],\n",
       "       ['ELETPUS', '201909', '359300.603', '13',\n",
       "        'Electricity Net Generation Total (including from sources not shown), All Sectors',\n",
       "        'Million Kilowatthours'],\n",
       "       ['ELETPUS', '201910', '321921.812', '13',\n",
       "        'Electricity Net Generation Total (including from sources not shown), All Sectors',\n",
       "        'Million Kilowatthours']], dtype='<U80')"
      ]
     },
     "execution_count": 27,
     "metadata": {},
     "output_type": "execute_result"
    }
   ],
   "source": [
    "data"
   ]
  },
  {
   "cell_type": "code",
   "execution_count": 28,
   "id": "79b21212",
   "metadata": {},
   "outputs": [
    {
     "data": {
      "text/plain": [
       "array([], shape=(0, 6), dtype='<U80')"
      ]
     },
     "execution_count": 28,
     "metadata": {},
     "output_type": "execute_result"
    }
   ],
   "source": [
    " data[data[:, 1] == 'Wind Energy']\n"
   ]
  },
  {
   "cell_type": "code",
   "execution_count": 41,
   "id": "52cc74b2",
   "metadata": {},
   "outputs": [],
   "source": [
    "data_array = data"
   ]
  },
  {
   "cell_type": "code",
   "execution_count": 61,
   "id": "4edbba75",
   "metadata": {},
   "outputs": [],
   "source": [
    "# 10"
   ]
  },
  {
   "cell_type": "code",
   "execution_count": null,
   "id": "b8f5484c",
   "metadata": {},
   "outputs": [],
   "source": [
    "total_energy_generated = np.sum(data_array[:, 4].astype(float))\n",
    "print(\"Total energy generated in the USA:\", total_energy_generated)"
   ]
  },
  {
   "cell_type": "code",
   "execution_count": 62,
   "id": "05beac42",
   "metadata": {},
   "outputs": [],
   "source": [
    "# 11\n"
   ]
  },
  {
   "cell_type": "code",
   "execution_count": null,
   "id": "e97d6786",
   "metadata": {},
   "outputs": [],
   "source": [
    "wind_energy_generated = wind_data[:, 4].astype(float)\n",
    "average_wind_energy = np.mean(wind_energy_generated)\n",
    "std_dev_wind_energy = np.std(wind_energy_generated)\n",
    "print(\"Average annual energy generated from wind:\", average_wind_energy)\n",
    "print(\"Standard deviation in wind energy generation:\", std_dev_wind_energy)"
   ]
  },
  {
   "cell_type": "code",
   "execution_count": 63,
   "id": "260954d2",
   "metadata": {},
   "outputs": [],
   "source": [
    "# 12"
   ]
  },
  {
   "cell_type": "code",
   "execution_count": null,
   "id": "a59f3084",
   "metadata": {},
   "outputs": [],
   "source": [
    "max_energy_index = np.argmax(data_array[:, 4].astype(float))\n",
    "max_energy_year = data_array[max_energy_index, 0]\n",
    "max_energy_value = data_array[max_energy_index, 4]\n",
    "print(\"Maximum annual energy generated was\", max_energy_value, \"in the year\", max_energy_year)"
   ]
  },
  {
   "cell_type": "code",
   "execution_count": 64,
   "id": "3ca5f924",
   "metadata": {},
   "outputs": [],
   "source": [
    "# 13"
   ]
  },
  {
   "cell_type": "code",
   "execution_count": null,
   "id": "1f8ab9a6",
   "metadata": {},
   "outputs": [],
   "source": []
  },
  {
   "cell_type": "code",
   "execution_count": null,
   "id": "3b41f48e",
   "metadata": {},
   "outputs": [],
   "source": [
    "current_year = 2023\n",
    "last_10_years_data = data_array[data_array[:, 0].astype(int) >= current_year - 10]\n",
    "total_energy_last_10_years = np.sum(last_10_years_data[:, 4].astype(float))\n",
    "total_energy_previous_10_years = np.sum(data_array[data_array[:, 0].astype(int) < current_year - 10, 4].astype(float))\n",
    "increase_in_energy = total_energy_last_10_years > total_energy_previous_10_years\n",
    "print(\"Has energy production increased in the last 10 years?\", increase_in_energy)"
   ]
  },
  {
   "cell_type": "code",
   "execution_count": null,
   "id": "0c4aca15",
   "metadata": {},
   "outputs": [],
   "source": []
  },
  {
   "cell_type": "code",
   "execution_count": 65,
   "id": "23afa9ef",
   "metadata": {},
   "outputs": [],
   "source": [
    "# 14"
   ]
  },
  {
   "cell_type": "code",
   "execution_count": null,
   "id": "abae1f81",
   "metadata": {},
   "outputs": [],
   "source": [
    "years = data_array[:, 0].astype(int)\n",
    "wind_energy_generated = data_array[data_array[:, 1] == 'WIND', 4].astype(float)\n",
    "largest_contributor = unique_sources[np.argmax(np.sum(data_array[:, 4].astype(float), axis=0))]\n",
    "print(\"Trend in energy generated from wind over the years:\")\n",
    "print(years, wind_energy_generated)\n",
    "print(\"Largest contributor to annual electricity production:\", largest_contributor)"
   ]
  },
  {
   "cell_type": "code",
   "execution_count": 58,
   "id": "9a4a7a58",
   "metadata": {},
   "outputs": [],
   "source": [
    "# 15"
   ]
  },
  {
   "cell_type": "code",
   "execution_count": null,
   "id": "bb531393",
   "metadata": {},
   "outputs": [],
   "source": [
    "wind_energy = data_array[data_array[:, 1] == 'WIND', 4].astype(float)\n",
    "solar_energy = data_array[data_array[:, 1] == 'SOLAR', 4].astype(float)\n",
    "total_energy = data_array[:, 4].astype(float)\n",
    "\n",
    "total_wind_contribution = np.sum(wind_energy) / np.sum(total_energy)\n",
    "total_solar_contribution = np.sum(solar_energy) / np.sum(total_energy)\n",
    "combined_wind_solar_contribution = (np.sum(wind_energy) + np.sum(solar_energy)) / np.sum(total_energy)\n",
    "\n",
    "print(\"Contribution of Wind Energy to total energy generation:\", total_wind_contribution)\n",
    "print(\"Contribution of Solar Energy to total energy generation:\", total_solar_contribution)\n",
    "print(\"Combined contribution of Wind and Solar Energy to total energy generation:\", combined_wind_solar_contribution)"
   ]
  },
  {
   "cell_type": "code",
   "execution_count": 56,
   "id": "da877788",
   "metadata": {},
   "outputs": [],
   "source": [
    "# end"
   ]
  },
  {
   "cell_type": "code",
   "execution_count": null,
   "id": "4515c927",
   "metadata": {},
   "outputs": [],
   "source": []
  }
 ],
 "metadata": {
  "kernelspec": {
   "display_name": "Python 3 (ipykernel)",
   "language": "python",
   "name": "python3"
  },
  "language_info": {
   "codemirror_mode": {
    "name": "ipython",
    "version": 3
   },
   "file_extension": ".py",
   "mimetype": "text/x-python",
   "name": "python",
   "nbconvert_exporter": "python",
   "pygments_lexer": "ipython3",
   "version": "3.8.3"
  }
 },
 "nbformat": 4,
 "nbformat_minor": 5
}
