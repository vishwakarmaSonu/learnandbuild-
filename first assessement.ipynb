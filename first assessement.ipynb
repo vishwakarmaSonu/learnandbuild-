{
 "cells": [
  {
   "cell_type": "raw",
   "id": "722254c8",
   "metadata": {},
   "source": [
    "Ques.1\n",
    "MAKE A PROGRAM TO MERGE TWO LIST INTO A SINGLE DICTIONARIES\n",
    "● Take inputs from the user\n",
    "● Any one list must contain unique elements\n",
    "● both the list should be of the same size\n",
    "● both the list should be a combination of numbers and names\n",
    "● Name of dictionary you can take it accordingly\n"
   ]
  },
  {
   "cell_type": "code",
   "execution_count": 16,
   "id": "eaaff055",
   "metadata": {},
   "outputs": [
    {
     "name": "stdout",
     "output_type": "stream",
     "text": [
      "enter unique name pls press space for next enterydjskf ldskfj djflsdjf sdjfsjdfsldfj \n",
      "enter random name  pls press space for next enterydlkfjkd sfljlsd fjdsjf djf \n",
      "{'djskf': 'dlkfjkd', 'ldskfj': 'sfljlsd', 'djflsdjf': 'fjdsjf', 'sdjfsjdfsldfj': 'djf', '': ''}\n"
     ]
    }
   ],
   "source": [
    "def dict(ls,ls1):\n",
    "    dicts = {}\n",
    "    for i in range(len(ls)):\n",
    "        key = ls[i]\n",
    "        value = ls1[i]\n",
    "        dicts[key] = value\n",
    "    return dicts\n",
    "        \n",
    "\n",
    "ls = input(\"enter unique name pls press space for next entery\")\n",
    "ls1 = input(\"enter random name  pls press space for next entery\")\n",
    "ls = ls.split(\" \")\n",
    "ls1 = ls1.split(\" \")\n",
    "if(len(ls)!=len(ls1)):\n",
    "    print(\"both list sizes are not same so wrong!\")\n",
    "\n",
    "else:\n",
    "    print(dict(ls,ls1))\n",
    "\n",
    "\n",
    "\n",
    "\n"
   ]
  },
  {
   "cell_type": "raw",
   "id": "bf0762d7",
   "metadata": {},
   "source": [
    "Ques 2.\n",
    " Write a program that converts Paragraph to List\n",
    "● Take input from the user in string form(a sentence or para)\n",
    "● All the words in the string having more than 4 letters should be stored in a list\n",
    "\n",
    "Sample Input : A paragraph is defined as “a group of sentences or a single sentence that forms a unit”. Length and appearance do not determine whether a section in a paper is a paragraph.\n",
    "Sample Output : [ ‘paragraph’ , ‘defined’, ‘group’ , ‘sentences’ , ‘forms’ , ‘Length’,‘appearance’ , ‘determine’ , ‘whether’ , ‘section’ , ‘paper’ , ‘paragraph’ ]"
   ]
  },
  {
   "cell_type": "code",
   "execution_count": 21,
   "id": "a48d0b7c",
   "metadata": {},
   "outputs": [
    {
     "name": "stdout",
     "output_type": "stream",
     "text": [
      "enter some paragraphA paragraph is defined as “a group of sentences or a single sentence that forms a unit”. Length and appearance do not determine whether a section in a paper is a paragraph\n",
      "['paragraph', 'defined', 'group', 'sentences', 'single', 'sentence', 'forms', 'unit”.', 'Length', 'appearance', 'determine', 'whether', 'section', 'paper', 'paragraph']\n"
     ]
    }
   ],
   "source": [
    "st = input(\"enter some paragraph\").split()\n",
    "sts = []\n",
    "j = 0\n",
    "for i in range(len(st)):\n",
    "    if(len(st[i])>4):\n",
    "        sts.insert(j,st[i])\n",
    "        j += 1\n",
    "    \n",
    "print(sts)\n",
    "        \n",
    "   "
   ]
  },
  {
   "cell_type": "raw",
   "id": "02ae00c5",
   "metadata": {},
   "source": [
    "\n",
    "Ques 3.\n",
    "Raining like cats and dogs\n",
    "● Take user input in the form of a string.\n",
    "● Return True if in the string \"cat\" and \"dog\" appear the same number of times in the given string\n",
    "\n",
    "catdog  == true\n",
    "dogdog  == false\n",
    "catdkfjdog == true\n",
    "\n"
   ]
  },
  {
   "cell_type": "code",
   "execution_count": 29,
   "id": "c5b1920a",
   "metadata": {},
   "outputs": [
    {
     "name": "stdout",
     "output_type": "stream",
     "text": [
      "enter string that contain dog and catdkscatdslfjdsjfdog\n",
      "true\n"
     ]
    }
   ],
   "source": [
    "ls = input(\"enter string that contain dog and cat\")\n",
    "c =\"cat\"\n",
    "d =\"dog\"\n",
    "if(c in ls and d in ls):\n",
    "    print(\"true\")\n",
    "else:\n",
    "    print(\"false\")\n"
   ]
  },
  {
   "cell_type": "raw",
   "id": "c868be4b",
   "metadata": {},
   "source": [
    "Ques 4.\n",
    "\n",
    "Calendar\n",
    "● Take input from the user in form of three integers\n",
    "● The three integers represent a year, month and day\n",
    "● Print the season of that month and day\n",
    "● Now check whether the given year is a leap year or not\n",
    "● If the year is a leap year then print the number of days in that year else print the\n",
    "next leap year\n"
   ]
  },
  {
   "cell_type": "code",
   "execution_count": 54,
   "id": "e76ec597",
   "metadata": {},
   "outputs": [
    {
     "name": "stdout",
     "output_type": "stream",
     "text": [
      "enter only year like 20232016\n",
      "enter only month like 83\n",
      "enter only day like 33\n",
      "month is  Apr  and days is  3\n",
      "366\n"
     ]
    }
   ],
   "source": [
    "def fun(m):\n",
    "    if(m<=12):\n",
    "        \n",
    "        lis = [\"Jan\",\"Feb\",\"Mar\",\"Apr\",\"Jun\",\"Jul\",\"Aug\",\"Sep\",\"Oct\",\"Nov\",\"Dec\"]\n",
    "        return lis[m]\n",
    "    else:\n",
    "        return 0\n",
    "def lea(y):\n",
    "    if(y%4 == 0):\n",
    "        return 366\n",
    "    else:\n",
    "        d = y%4\n",
    "        j =0\n",
    "        while(d<=4):\n",
    "            j += 1\n",
    "            d += 1\n",
    "        return y+j-1\n",
    "        \n",
    "        \n",
    "        \n",
    "        \n",
    "    \n",
    "\n",
    "y = int(input(\"enter only year like 2023\"))\n",
    "m = int(input(\"enter only month like 8\"))\n",
    "d = int(input(\"enter only day like 3\"))\n",
    "\n",
    "print(\"month is \",fun(m),\" and days is \",d)\n",
    "print(lea(y))"
   ]
  },
  {
   "cell_type": "code",
   "execution_count": 48,
   "id": "5d65d5a3",
   "metadata": {},
   "outputs": [
    {
     "data": {
      "text/plain": [
       "3"
      ]
     },
     "execution_count": 48,
     "metadata": {},
     "output_type": "execute_result"
    }
   ],
   "source": [
    "202%4"
   ]
  },
  {
   "cell_type": "raw",
   "id": "5124f2f5",
   "metadata": {},
   "source": [
    "Trekking with friends\n",
    "● Three friends Suman, Amit and Ravi have gone for trekking and there they\n",
    "decided to plan a racing among themselves\n",
    "● Amit beats Suman by A meters, Ravi by B meters and Suman beats Ravi\n",
    "by C meters\n",
    "● Find the total length of trek they all have traveled\n",
    "\n",
    "\n",
    "Sample Input: A= 10 m, B= 20 m, C= 12m\n",
    "Sample Output: Total length of the Track= 60 m"
   ]
  },
  {
   "cell_type": "code",
   "execution_count": 56,
   "id": "be85d470",
   "metadata": {},
   "outputs": [
    {
     "name": "stdout",
     "output_type": "stream",
     "text": [
      "Total length of the Track = 22 m\n"
     ]
    }
   ],
   "source": [
    "def totals(A, B, C):\n",
    "    T = B - A + C\n",
    "    return T\n",
    "\n",
    "if __name__ == \"__main__\":\n",
    "    A = 10\n",
    "    B = 20\n",
    "    C = 12\n",
    "    total_length = totals(A, B, C)\n",
    "    print(\"Total length of the Track =\", total_length, \"m\")"
   ]
  },
  {
   "cell_type": "raw",
   "id": "91436186",
   "metadata": {},
   "source": [
    "Ques 6.\n",
    "\n",
    "Filter\n",
    "● Create a function even_filter with one parameter. This function will return a\n",
    "list which will contain only odd values.\n",
    "● Create a function odd_filter with one parameter. This function will return a\n",
    "list which will contain only even values.\n",
    "● Call the function even_filter and pass a list of numbers as an argument.\n",
    "● Call the function odd_filter and pass a dictionary as an argument.\n"
   ]
  },
  {
   "cell_type": "code",
   "execution_count": 58,
   "id": "fd238f5b",
   "metadata": {},
   "outputs": [
    {
     "name": "stdout",
     "output_type": "stream",
     "text": [
      "Even numbers from the list: [2, 4, 6, 8, 10]\n",
      "Odd values from the dictionary: [11, 33, 55]\n"
     ]
    }
   ],
   "source": [
    "def even_filter(input_list):\n",
    "    even_list = [num for num in input_list if num % 2 == 0]\n",
    "    return even_list\n",
    "\n",
    "def odd_filter(input_dict):\n",
    "    odd_list = [value for value in input_dict.values() if value % 2 != 0]\n",
    "    return odd_list\n",
    "\n",
    "\n",
    "numbers_list = [1, 2, 3, 4, 5, 6, 7, 8, 9, 10]\n",
    "even_numbers = even_filter(numbers_list)\n",
    "print(\"Even numbers from the list:\", even_numbers)\n",
    "\n",
    "data_dict = {\"a\": 11, \"b\": 22, \"c\": 33, \"d\": 44, \"e\": 55}\n",
    "odd_values = odd_filter(data_dict)\n",
    "print(\"Odd values from the dictionary:\", odd_values)"
   ]
  },
  {
   "cell_type": "raw",
   "id": "f87d9fe4",
   "metadata": {},
   "source": [
    "Ques 8.\n",
    "\n",
    "Write a program to print twin primes less than 1000. If two consecutive odd numbers are both prime then they are known as twin primes. \n",
    " \n",
    "Define two functions checkPrime(): which checks whether the number is prime or not. If yes then return it. \n",
    "The second function twinPrime(): Generates the list of twin primes and returns them.\n"
   ]
  },
  {
   "cell_type": "code",
   "execution_count": 65,
   "id": "98b82b93",
   "metadata": {},
   "outputs": [
    {
     "name": "stdout",
     "output_type": "stream",
     "text": [
      "Twin primes less than 1000:\n",
      "3 5\n",
      "5 7\n",
      "11 13\n",
      "17 19\n",
      "29 31\n",
      "41 43\n",
      "59 61\n",
      "71 73\n",
      "101 103\n",
      "107 109\n",
      "137 139\n",
      "149 151\n",
      "179 181\n",
      "191 193\n",
      "197 199\n",
      "227 229\n",
      "239 241\n",
      "269 271\n",
      "281 283\n",
      "311 313\n",
      "347 349\n",
      "419 421\n",
      "431 433\n",
      "461 463\n",
      "521 523\n",
      "569 571\n",
      "599 601\n",
      "617 619\n",
      "641 643\n",
      "659 661\n",
      "809 811\n",
      "821 823\n",
      "827 829\n",
      "857 859\n",
      "881 883\n"
     ]
    }
   ],
   "source": [
    "def checkPrime(num):\n",
    "    # Check if a number is prime\n",
    "    if num <= 1:\n",
    "        return False\n",
    "    for i in range(2, int(num**0.5) + 1):\n",
    "        if num % i == 0:\n",
    "            return False\n",
    "    return True\n",
    "\n",
    "def twinPrime():\n",
    "    twin_primes = []\n",
    "    for num in range(3, 1000, 2):  # Start from 3 and consider only odd numbers\n",
    "        if checkPrime(num) and checkPrime(num + 2):\n",
    "            twin_primes.append((num, num + 2))\n",
    "    return twin_primes\n",
    "\n",
    "\n",
    "twin_primes_list = twinPrime()\n",
    "print(\"Twin primes less than 1000:\")\n",
    "for twin_prime in twin_primes_list:\n",
    "    print(twin_prime[0], twin_prime[1])\n"
   ]
  },
  {
   "cell_type": "code",
   "execution_count": null,
   "id": "cd56fbb2",
   "metadata": {},
   "outputs": [],
   "source": []
  },
  {
   "cell_type": "code",
   "execution_count": null,
   "id": "4b4016b4",
   "metadata": {},
   "outputs": [],
   "source": []
  }
 ],
 "metadata": {
  "kernelspec": {
   "display_name": "Python 3 (ipykernel)",
   "language": "python",
   "name": "python3"
  },
  "language_info": {
   "codemirror_mode": {
    "name": "ipython",
    "version": 3
   },
   "file_extension": ".py",
   "mimetype": "text/x-python",
   "name": "python",
   "nbconvert_exporter": "python",
   "pygments_lexer": "ipython3",
   "version": "3.8.3"
  }
 },
 "nbformat": 4,
 "nbformat_minor": 5
}
