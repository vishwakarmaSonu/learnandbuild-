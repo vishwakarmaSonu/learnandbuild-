{
 "cells": [
  {
   "cell_type": "code",
   "execution_count": 16,
   "id": "eb591873",
   "metadata": {},
   "outputs": [],
   "source": [
    "import numpy as np"
   ]
  },
  {
   "cell_type": "code",
   "execution_count": 17,
   "id": "cb020fd2",
   "metadata": {},
   "outputs": [],
   "source": [
    "data = [\n",
    "    [9, 30, 14, 29, 11, 32, 10, 31, 8, 32, 15, 30, 7, 27],\n",
    "    [13, 32, 9, 30, 13, 23, -13, 28, 9, 24, 6, 29, 12, 20],\n",
    "    [14, 27, 10, 28, 6, 27, 12, 20, 14, 26, 8, 30, 7, 30],\n",
    "    [11, 28, 6, 24, 9, 26, 13, 23, 13, 22, 14, 21, 15, 28],\n",
    "    [11, 29, 6, 20, 6, 25, 12, 31, 12, 27, 14, 23, 12, 24],\n",
    "    [12, 32, 6, 30, 10, 20, 7, 29, 7, 29, 9, 23, 15, 25],\n",
    "    [14, 30, 10, 28, 12, 24, 13, 25, 14, 28, 15, 32, 7, 27],\n",
    "    [6, 21, 8, 23, 6, 20, 10, 30, 9, 29, 9, 26, 14, 25],\n",
    "    [5, 21, 8, 21, 7, 20, 8, 18, 3, 18, 8, 4, 19, 7],\n",
    "    [7, 21, 7, 22, 4, 19, 5, 18, 7, 19, 2, 5, 20, 6],\n",
    "    [4, 22, 2, 22, 5, 18, 7, 20, 7, 19, 4, 3, 21, 8],\n",
    "    [5, 18, 5, 20, 4, 18, 3, 19, 7, 20, 7, 3, 19, 7],\n",
    "    [12, 18, 9, 21, -10, 21, 8, 20, 8, 20, 11, 71, 19, 8],\n",
    "    [7, 21, 9, 22, 12, 22, 7, 18, 11, 20, 8, 10, 19, 10],\n",
    "    [12, 22, 8, 21, 12, 22, 10, 19, 7, 20, 12, 9, 19, 7],\n",
    "    [7, 19, 10, 19, 8, 19, 9, 19, 11, 18, 12, 8, 22, 9]\n",
    "]"
   ]
  },
  {
   "cell_type": "markdown",
   "id": "050b3d2f",
   "metadata": {},
   "source": [
    "# 1. Represent the data in the given sheet into an appropriate NumPy array so\n",
    "that you can perform the following actions on it.\n"
   ]
  },
  {
   "cell_type": "code",
   "execution_count": 18,
   "id": "952156c4",
   "metadata": {},
   "outputs": [],
   "source": [
    "data = np.array(data)"
   ]
  },
  {
   "cell_type": "code",
   "execution_count": 19,
   "id": "dbc00782",
   "metadata": {},
   "outputs": [
    {
     "data": {
      "text/plain": [
       "array([[  9,  30,  14,  29,  11,  32,  10,  31,   8,  32,  15,  30,   7,\n",
       "         27],\n",
       "       [ 13,  32,   9,  30,  13,  23, -13,  28,   9,  24,   6,  29,  12,\n",
       "         20],\n",
       "       [ 14,  27,  10,  28,   6,  27,  12,  20,  14,  26,   8,  30,   7,\n",
       "         30],\n",
       "       [ 11,  28,   6,  24,   9,  26,  13,  23,  13,  22,  14,  21,  15,\n",
       "         28],\n",
       "       [ 11,  29,   6,  20,   6,  25,  12,  31,  12,  27,  14,  23,  12,\n",
       "         24],\n",
       "       [ 12,  32,   6,  30,  10,  20,   7,  29,   7,  29,   9,  23,  15,\n",
       "         25],\n",
       "       [ 14,  30,  10,  28,  12,  24,  13,  25,  14,  28,  15,  32,   7,\n",
       "         27],\n",
       "       [  6,  21,   8,  23,   6,  20,  10,  30,   9,  29,   9,  26,  14,\n",
       "         25],\n",
       "       [  5,  21,   8,  21,   7,  20,   8,  18,   3,  18,   8,   4,  19,\n",
       "          7],\n",
       "       [  7,  21,   7,  22,   4,  19,   5,  18,   7,  19,   2,   5,  20,\n",
       "          6],\n",
       "       [  4,  22,   2,  22,   5,  18,   7,  20,   7,  19,   4,   3,  21,\n",
       "          8],\n",
       "       [  5,  18,   5,  20,   4,  18,   3,  19,   7,  20,   7,   3,  19,\n",
       "          7],\n",
       "       [ 12,  18,   9,  21, -10,  21,   8,  20,   8,  20,  11,  71,  19,\n",
       "          8],\n",
       "       [  7,  21,   9,  22,  12,  22,   7,  18,  11,  20,   8,  10,  19,\n",
       "         10],\n",
       "       [ 12,  22,   8,  21,  12,  22,  10,  19,   7,  20,  12,   9,  19,\n",
       "          7],\n",
       "       [  7,  19,  10,  19,   8,  19,   9,  19,  11,  18,  12,   8,  22,\n",
       "          9]])"
      ]
     },
     "execution_count": 19,
     "metadata": {},
     "output_type": "execute_result"
    }
   ],
   "source": [
    "data"
   ]
  },
  {
   "cell_type": "markdown",
   "id": "2900de50",
   "metadata": {},
   "source": [
    "# Write the dimensions and shape of the NumPy array that you have\n",
    "created"
   ]
  },
  {
   "cell_type": "code",
   "execution_count": 20,
   "id": "c6dc4e73",
   "metadata": {},
   "outputs": [
    {
     "data": {
      "text/plain": [
       "(16, 14)"
      ]
     },
     "execution_count": 20,
     "metadata": {},
     "output_type": "execute_result"
    }
   ],
   "source": [
    "data.shape"
   ]
  },
  {
   "cell_type": "code",
   "execution_count": 21,
   "id": "67d3a074",
   "metadata": {},
   "outputs": [
    {
     "data": {
      "text/plain": [
       "2"
      ]
     },
     "execution_count": 21,
     "metadata": {},
     "output_type": "execute_result"
    }
   ],
   "source": [
    "data.ndim"
   ]
  },
  {
   "cell_type": "markdown",
   "id": "496ecc2b",
   "metadata": {},
   "source": [
    "# Print the daily temperatures for the first week of each month.\n"
   ]
  },
  {
   "cell_type": "code",
   "execution_count": 22,
   "id": "5de720c7",
   "metadata": {},
   "outputs": [],
   "source": [
    "nn = np.size(data, axis=0)"
   ]
  },
  {
   "cell_type": "code",
   "execution_count": 23,
   "id": "0206f438",
   "metadata": {},
   "outputs": [
    {
     "data": {
      "text/plain": [
       "16"
      ]
     },
     "execution_count": 23,
     "metadata": {},
     "output_type": "execute_result"
    }
   ],
   "source": [
    "nn"
   ]
  },
  {
   "cell_type": "code",
   "execution_count": 24,
   "id": "45725994",
   "metadata": {},
   "outputs": [
    {
     "name": "stdout",
     "output_type": "stream",
     "text": [
      "[ 9 30 14 29 11 32 10 31  8 32 15 30  7 27]\n",
      "[11 29  6 20  6 25 12 31 12 27 14 23 12 24]\n",
      "[ 5 21  8 21  7 20  8 18  3 18  8  4 19  7]\n",
      "[ 12  18   9  21 -10  21   8  20   8  20  11  71  19   8]\n"
     ]
    }
   ],
   "source": [
    "for i in range(nn):\n",
    "    if(i%4==0):\n",
    "        print(data[i])"
   ]
  },
  {
   "cell_type": "markdown",
   "id": "a9494754",
   "metadata": {},
   "source": [
    "# Print the temperatures for Tuesday of each month.\n"
   ]
  },
  {
   "cell_type": "code",
   "execution_count": 25,
   "id": "98298b26",
   "metadata": {},
   "outputs": [
    {
     "name": "stdout",
     "output_type": "stream",
     "text": [
      "Month: 9, Tuesday Min Temp: 11, Tuesday Max Temp: 32\n",
      "Month: 13, Tuesday Min Temp: 13, Tuesday Max Temp: 23\n",
      "Month: 14, Tuesday Min Temp: 6, Tuesday Max Temp: 27\n",
      "Month: 11, Tuesday Min Temp: 9, Tuesday Max Temp: 26\n",
      "Month: 11, Tuesday Min Temp: 6, Tuesday Max Temp: 25\n",
      "Month: 12, Tuesday Min Temp: 10, Tuesday Max Temp: 20\n",
      "Month: 14, Tuesday Min Temp: 12, Tuesday Max Temp: 24\n",
      "Month: 6, Tuesday Min Temp: 6, Tuesday Max Temp: 20\n",
      "Month: 5, Tuesday Min Temp: 7, Tuesday Max Temp: 20\n",
      "Month: 7, Tuesday Min Temp: 4, Tuesday Max Temp: 19\n",
      "Month: 4, Tuesday Min Temp: 5, Tuesday Max Temp: 18\n",
      "Month: 5, Tuesday Min Temp: 4, Tuesday Max Temp: 18\n",
      "Month: 12, Tuesday Min Temp: -10, Tuesday Max Temp: 21\n",
      "Month: 7, Tuesday Min Temp: 12, Tuesday Max Temp: 22\n",
      "Month: 12, Tuesday Min Temp: 12, Tuesday Max Temp: 22\n",
      "Month: 7, Tuesday Min Temp: 8, Tuesday Max Temp: 19\n"
     ]
    }
   ],
   "source": [
    "numpy_array = np.array(data)\n",
    "\n",
    "tue_min_col = 4\n",
    "tue_max_col = 5\n",
    "\n",
    "# Extract temperatures for Tuesday from each month\n",
    "for month_data in numpy_array:\n",
    "    month = month_data[0]  # Assuming the first column is the month name\n",
    "    tue_min_temp = month_data[tue_min_col]\n",
    "    tue_max_temp = month_data[tue_max_col]\n",
    "    \n",
    "    print(f\"Month: {month}, Tuesday Min Temp: {tue_min_temp}, Tuesday Max Temp: {tue_max_temp}\")"
   ]
  },
  {
   "cell_type": "markdown",
   "id": "35c826ea",
   "metadata": {},
   "source": [
    "# Print only the maximum temperature for all the weekdays of Dec and Feb."
   ]
  },
  {
   "cell_type": "code",
   "execution_count": 26,
   "id": "513c64f3",
   "metadata": {},
   "outputs": [],
   "source": [
    "max_temp_columns = {\n",
    "    \"Mon\": 2,\n",
    "    \"Tue\": 4,\n",
    "    \"Wed\": 6,\n",
    "    \"Thu\": 8,\n",
    "    \"Fri\": 10,\n",
    "    \"Sat\": 12,\n",
    "    \"Sun\": 14\n",
    "}\n",
    "\n",
    "# Months you're interested in\n",
    "months_of_interest = [\"December\", \"February\"]\n",
    "\n",
    "# Iterate through the array and print maximum temperatures for weekdays of Dec and Feb\n",
    "for month_data in numpy_array:\n",
    "    month = month_data[0]\n",
    "    \n",
    "    if month in months_of_interest:\n",
    "        for weekday, col_idx in max_temp_columns.items():\n",
    "            max_temp = month_data[col_idx]\n",
    "            print(f\"Month: {month}, Weekday: {weekday}, Max Temp: {max_temp}\")"
   ]
  },
  {
   "cell_type": "code",
   "execution_count": null,
   "id": "96106974",
   "metadata": {},
   "outputs": [],
   "source": []
  },
  {
   "cell_type": "code",
   "execution_count": 27,
   "id": "5f23d00e",
   "metadata": {},
   "outputs": [],
   "source": [
    "min_temp_columns = {\n",
    "    \"Mon\": 1,\n",
    "    \"Tue\": 3,\n",
    "    \"Wed\": 5,\n",
    "    \"Thu\": 7,\n",
    "    \"Fri\": 9,\n",
    "    \"Sat\": 11,\n",
    "    \"Sun\": 13\n",
    "}\n",
    "\n",
    "# Iterate through the array and print days with minimum temperature < 8 degrees in November\n",
    "for month_data in numpy_array:\n",
    "    month = month_data[0]\n",
    "    if month == \"November\":\n",
    "        week = month_data[1]\n",
    "        for weekday, col_idx in min_temp_columns.items():\n",
    "            min_temp = month_data[col_idx]\n",
    "            if min_temp < 8:\n",
    "                print(f\"Month: {month}, Week: {week}, Weekday: {weekday}, Min Temp: {min_temp}\")"
   ]
  },
  {
   "cell_type": "code",
   "execution_count": null,
   "id": "910a46ac",
   "metadata": {},
   "outputs": [],
   "source": []
  },
  {
   "cell_type": "code",
   "execution_count": 28,
   "id": "aa953fc9",
   "metadata": {},
   "outputs": [],
   "source": [
    "max_temp_columns = {\n",
    "    \"Mon\": 2,\n",
    "    \"Tue\": 4,\n",
    "    \"Wed\": 6,\n",
    "    \"Thu\": 8,\n",
    "    \"Fri\": 10,\n",
    "    \"Sat\": 12,\n",
    "    \"Sun\": 14\n",
    "}\n",
    "\n",
    "# Threshold for maximum temperature\n",
    "temperature_threshold = 20\n",
    "\n",
    "# Iterate through the array and print weeks with maximum temperature > threshold\n",
    "for month_data in numpy_array:\n",
    "    month = month_data[0]\n",
    "    if month in [\"December\", \"January\"]:\n",
    "        week = month_data[1]\n",
    "        week_max_temps = [month_data[col_idx] for col_idx in max_temp_columns.values()]\n",
    "        \n",
    "        if any(temp > temperature_threshold for temp in week_max_temps):\n",
    "            print(f\"Month: {month}, Week: {week}\")\n"
   ]
  },
  {
   "cell_type": "code",
   "execution_count": null,
   "id": "c3c4a8b4",
   "metadata": {},
   "outputs": [],
   "source": []
  },
  {
   "cell_type": "code",
   "execution_count": 29,
   "id": "b58e34ae",
   "metadata": {},
   "outputs": [],
   "source": [
    "min_reasonable_temp = -100  # Example: unrealistically low\n",
    "max_reasonable_temp = 100   # Example: unrealistically high\n",
    "\n",
    "# Iterate through the array and check for absurd temperature values\n",
    "for month_data in numpy_array:\n",
    "    for temp in month_data:\n",
    "        if temp < min_reasonable_temp or temp > max_reasonable_temp:\n",
    "            print(f\"Absurd value detected: {temp}\")"
   ]
  },
  {
   "cell_type": "code",
   "execution_count": null,
   "id": "31aaedc6",
   "metadata": {},
   "outputs": [],
   "source": []
  },
  {
   "cell_type": "code",
   "execution_count": 30,
   "id": "4742a20a",
   "metadata": {},
   "outputs": [
    {
     "name": "stdout",
     "output_type": "stream",
     "text": [
      "Indexes of Outliers: (array([12], dtype=int64), array([11], dtype=int64))\n"
     ]
    }
   ],
   "source": [
    "outlier_threshold = 40  # Example threshold\n",
    "\n",
    "# Find and print indexes of outlier values\n",
    "outlier_indexes = np.where(numpy_array > outlier_threshold)\n",
    "print(\"Indexes of Outliers:\", outlier_indexes)"
   ]
  },
  {
   "cell_type": "code",
   "execution_count": null,
   "id": "947404ae",
   "metadata": {},
   "outputs": [],
   "source": []
  },
  {
   "cell_type": "code",
   "execution_count": null,
   "id": "f0b0eb48",
   "metadata": {},
   "outputs": [],
   "source": []
  },
  {
   "cell_type": "code",
   "execution_count": 31,
   "id": "f4823799",
   "metadata": {},
   "outputs": [
    {
     "name": "stdout",
     "output_type": "stream",
     "text": [
      "Modified Array:\n",
      "[[  9  30  14  29  11  32  10  31   8  32  15  30   7  27]\n",
      " [ 13  32   9  30  13  23 -13  28   9  24   6  29  12  20]\n",
      " [ 14  27  10  28   6  27  12  20  14  26   8  30   7  30]\n",
      " [ 11  28   6  24   9  26  13  23  13  22  14  21  15  28]\n",
      " [ 11  29   6  20   6  25  12  31  12  27  14  23  12  24]\n",
      " [ 12  32   6  30  10  20   7  29   7  29   9  23  15  25]\n",
      " [ 14  30  10  28  12  24  13  25  14  28  15  32   7  27]\n",
      " [  6  21   8  23   6  20  10  30   9  29   9  26  14  25]\n",
      " [  5  21   8  21   7  20   8  18   3  18   8   4  19   7]\n",
      " [  7  21   7  22   4  19   5  18   7  19   2   5  20   6]\n",
      " [  4  22   2  22   5  18   7  20   7  19   4   3  21   8]\n",
      " [  5  18   5  20   4  18   3  19   7  20   7   3  19   7]\n",
      " [ 12  18   9  21 -10  21   8  20   8  20  11  14  19   8]\n",
      " [  7  21   9  22  12  22   7  18  11  20   8  10  19  10]\n",
      " [ 12  22   8  21  12  22  10  19   7  20  12   9  19   7]\n",
      " [  7  19  10  19   8  19   9  19  11  18  12   8  22   9]]\n"
     ]
    }
   ],
   "source": [
    "outlier_threshold = 40  # Example threshold\n",
    "\n",
    "# Replace outliers with the median value\n",
    "median_value = np.median(numpy_array)\n",
    "numpy_array[numpy_array > outlier_threshold] = median_value\n",
    "\n",
    "# Print the modified array\n",
    "print(\"Modified Array:\")\n",
    "print(numpy_array)"
   ]
  },
  {
   "cell_type": "code",
   "execution_count": null,
   "id": "fdbfcf73",
   "metadata": {},
   "outputs": [],
   "source": []
  },
  {
   "cell_type": "code",
   "execution_count": 33,
   "id": "0d767058",
   "metadata": {},
   "outputs": [
    {
     "name": "stdout",
     "output_type": "stream",
     "text": [
      "Average Max Temperature for Winter Months in Jaipur: 14.166666666666666\n"
     ]
    }
   ],
   "source": [
    "month_indices = {\n",
    "    \"January\": 1,\n",
    "    \"February\": 2,\n",
    "    \"December\": 12\n",
    "}\n",
    "\n",
    "# Extract data for the winter months (December, January, February)\n",
    "winter_data = numpy_array[np.isin(numpy_array[:, 0], list(month_indices.values()))]\n",
    "\n",
    "# Calculate the average maximum temperature for the winter months\n",
    "average_max_temp = np.mean(winter_data[:, [10, 12]])  # Max temp column indices: 10, 12\n",
    "\n",
    "print(\"Average Max Temperature for Winter Months in Jaipur:\", average_max_temp)\n"
   ]
  },
  {
   "cell_type": "code",
   "execution_count": null,
   "id": "31112035",
   "metadata": {},
   "outputs": [],
   "source": []
  },
  {
   "cell_type": "code",
   "execution_count": null,
   "id": "1d9dd379",
   "metadata": {},
   "outputs": [],
   "source": []
  },
  {
   "cell_type": "code",
   "execution_count": 34,
   "id": "cec8aed6",
   "metadata": {},
   "outputs": [
    {
     "name": "stdout",
     "output_type": "stream",
     "text": [
      "Weekly Minimum Average Temperatures for December in Jaipur:\n",
      "Week 18: 8.0\n",
      "Week 22: 7.0\n",
      "Week 32: 7.0\n"
     ]
    }
   ],
   "source": [
    "month_indices = {\n",
    "    \"December\": 12\n",
    "}\n",
    "\n",
    "# Extract data for the month of December\n",
    "december_data = numpy_array[numpy_array[:, 0] == month_indices[\"December\"]]\n",
    "\n",
    "# Calculate weekly minimum average temperature for December\n",
    "weeks = np.unique(december_data[:, 1])  # Assuming week numbers are in the second column\n",
    "weekly_min_avg_temps = []\n",
    "\n",
    "for week in weeks:\n",
    "    week_data = december_data[december_data[:, 1] == week]\n",
    "    weekly_min_avg_temp = np.mean(week_data[:, 8])  # Min temp column index: 8\n",
    "    weekly_min_avg_temps.append((week, weekly_min_avg_temp))\n",
    "\n",
    "print(\"Weekly Minimum Average Temperatures for December in Jaipur:\")\n",
    "for week, temp in weekly_min_avg_temps:\n",
    "    print(f\"Week {int(week)}:\", temp)"
   ]
  },
  {
   "cell_type": "code",
   "execution_count": null,
   "id": "374257b2",
   "metadata": {},
   "outputs": [],
   "source": []
  },
  {
   "cell_type": "code",
   "execution_count": null,
   "id": "368b4977",
   "metadata": {},
   "outputs": [],
   "source": []
  },
  {
   "cell_type": "code",
   "execution_count": 35,
   "id": "04c1f3c6",
   "metadata": {},
   "outputs": [
    {
     "name": "stdout",
     "output_type": "stream",
     "text": [
      "Overall Average Temperature for December and January: 14.583333333333334\n"
     ]
    }
   ],
   "source": [
    "month_indices = {\n",
    "    \"December\": 12,\n",
    "    \"January\": 1\n",
    "}\n",
    "\n",
    "# Extract data for the months of December and January\n",
    "dec_jan_data = numpy_array[np.isin(numpy_array[:, 0], list(month_indices.values()))]\n",
    "\n",
    "# Calculate the overall average temperature for Dec and Jan\n",
    "overall_avg_temp = np.mean(dec_jan_data[:, [2, 3, 4, 5, 6, 7, 8, 9, 10, 11, 12, 13]])\n",
    "\n",
    "print(\"Overall Average Temperature for December and January:\", overall_avg_temp)"
   ]
  },
  {
   "cell_type": "code",
   "execution_count": null,
   "id": "7b58dcf4",
   "metadata": {},
   "outputs": [],
   "source": []
  },
  {
   "cell_type": "code",
   "execution_count": 36,
   "id": "138fd586",
   "metadata": {},
   "outputs": [
    {
     "name": "stdout",
     "output_type": "stream",
     "text": [
      "Least Temperature: -10\n",
      "Date (Month/Week/Day): 12 18 9\n"
     ]
    }
   ],
   "source": [
    "month_indices = {\n",
    "    \"December\": 12,\n",
    "    \"January\": 1\n",
    "}\n",
    "\n",
    "# Initialize variables to track the minimum temperature and its date\n",
    "min_temp = np.inf  # Initialize with a very large value\n",
    "min_temp_date = None\n",
    "\n",
    "# Iterate through the data and find the least temperature in Dec and Jan\n",
    "for row in numpy_array:\n",
    "    month = row[0]\n",
    "    if month in month_indices.values():\n",
    "        min_temp_candidate = min(row[2:14])  # Minimum temperature columns\n",
    "        if min_temp_candidate < min_temp:\n",
    "            min_temp = min_temp_candidate\n",
    "            min_temp_date = row\n",
    "\n",
    "# Print the least temperature and its date\n",
    "print(\"Least Temperature:\", min_temp)\n",
    "print(\"Date (Month/Week/Day):\", min_temp_date[0], min_temp_date[1], min_temp_date[2])"
   ]
  },
  {
   "cell_type": "code",
   "execution_count": null,
   "id": "87385095",
   "metadata": {},
   "outputs": [],
   "source": []
  },
  {
   "cell_type": "code",
   "execution_count": 38,
   "id": "14c0d404",
   "metadata": {},
   "outputs": [
    {
     "name": "stdout",
     "output_type": "stream",
     "text": [
      "Rearranged Data:\n",
      "[[ 11  28   6  24   9  26  13  23  13  22  14  21  15  28]\n",
      " [ 11  29   6  20   6  25  12  31  12  27  14  23  12  24]\n",
      " [ 12  32   6  30  10  20   7  29   7  29   9  23  15  25]\n",
      " [ 12  18   9  21 -10  21   8  20   8  20  11  14  19   8]\n",
      " [ 12  22   8  21  12  22  10  19   7  20  12   9  19   7]]\n"
     ]
    }
   ],
   "source": [
    "month_indices = {\n",
    "    \"November\": 11,\n",
    "    \"December\": 12,\n",
    "    \"January\": 1,\n",
    "    \"February\": 2\n",
    "}\n",
    "\n",
    "# Create an empty list to store the rearranged rows\n",
    "rearranged_data = []\n",
    "\n",
    "# Iterate through the month indices and rearrange the data\n",
    "for month in month_indices.values():\n",
    "    month_data = numpy_array[numpy_array[:, 0] == month]\n",
    "    rearranged_data.append(month_data)\n",
    "\n",
    "# Stack the rearranged data vertically\n",
    "final_rearranged_data = np.vstack(rearranged_data)\n",
    "\n",
    "# Print the rearranged data\n",
    "print(\"Rearranged Data:\")\n",
    "print(final_rearranged_data)"
   ]
  },
  {
   "cell_type": "code",
   "execution_count": null,
   "id": "a2e555c0",
   "metadata": {},
   "outputs": [],
   "source": []
  },
  {
   "cell_type": "code",
   "execution_count": 43,
   "id": "97beb79e",
   "metadata": {},
   "outputs": [
    {
     "name": "stdout",
     "output_type": "stream",
     "text": [
      "Differences between Max Temperatures of Consecutive Days:\n",
      "[[  3   4   0   1   1]\n",
      " [  0   6   0   2  -2]\n",
      " [  4  -3   0   2   6]\n",
      " [-19  18   0   3   8]\n",
      " [  4  -2  -3   5   7]]\n"
     ]
    }
   ],
   "source": [
    "month_indices = {\n",
    "    \"November\": 11,\n",
    "    \"December\": 12,\n",
    "    \"January\": 1,\n",
    "    \"February\": 2\n",
    "}\n",
    "\n",
    "# Iterate through the data and calculate differences for each month\n",
    "differences = []\n",
    "\n",
    "for month in month_indices.values():\n",
    "    month_data = numpy_array[numpy_array[:, 0] == month]\n",
    "    max_temps = month_data[:, 2:14:2]  # Maximum temperatures for each day\n",
    "    temp_diffs = np.diff(max_temps, axis=1)  # Calculate differences between consecutive days\n",
    "    differences.append(temp_diffs)\n",
    "\n",
    "# Stack the differences vertically\n",
    "differences_array = np.vstack(differences)\n",
    "\n",
    "# Print the differences array\n",
    "print(\"Differences between Max Temperatures of Consecutive Days:\")\n",
    "print(differences_array)"
   ]
  },
  {
   "cell_type": "code",
   "execution_count": null,
   "id": "b2905efe",
   "metadata": {},
   "outputs": [],
   "source": []
  }
 ],
 "metadata": {
  "kernelspec": {
   "display_name": "Python 3 (ipykernel)",
   "language": "python",
   "name": "python3"
  },
  "language_info": {
   "codemirror_mode": {
    "name": "ipython",
    "version": 3
   },
   "file_extension": ".py",
   "mimetype": "text/x-python",
   "name": "python",
   "nbconvert_exporter": "python",
   "pygments_lexer": "ipython3",
   "version": "3.8.3"
  }
 },
 "nbformat": 4,
 "nbformat_minor": 5
}
